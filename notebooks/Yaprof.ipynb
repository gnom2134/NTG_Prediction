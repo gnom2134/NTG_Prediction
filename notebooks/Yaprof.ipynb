{
 "cells": [
  {
   "cell_type": "markdown",
   "metadata": {},
   "source": [
    "## Imports and utils"
   ]
  },
  {
   "cell_type": "code",
   "execution_count": 1,
   "metadata": {},
   "outputs": [],
   "source": [
    "import numpy as np\n",
    "import pandas as pd\n",
    "from matplotlib import pyplot as plt\n",
    "from sklearn.base import BaseEstimator, ClassifierMixin\n",
    "from sklearn.neighbors import NearestNeighbors\n",
    "from multiprocessing import Pool\n",
    "import warnings\n",
    "from tqdm import tqdm_notebook\n",
    "\n",
    "warnings.filterwarnings(\"ignore\")"
   ]
  },
  {
   "cell_type": "code",
   "execution_count": 2,
   "metadata": {},
   "outputs": [],
   "source": [
    "seed = 3422"
   ]
  },
  {
   "cell_type": "code",
   "execution_count": 3,
   "metadata": {},
   "outputs": [],
   "source": [
    "def make_submission(tst_df, preds, name):\n",
    "    tst_df['NTG'] = preds\n",
    "    tst_df.to_csv('submission_' + name +'.csv', index=False)"
   ]
  },
  {
   "cell_type": "markdown",
   "metadata": {},
   "source": [
    "## Feature engeneering using KNN"
   ]
  },
  {
   "cell_type": "code",
   "execution_count": 4,
   "metadata": {},
   "outputs": [],
   "source": [
    "class NearestNeighborsFeats(BaseEstimator, ClassifierMixin):\n",
    "    '''\n",
    "        This class should implement KNN features extraction \n",
    "    '''\n",
    "    def __init__(self, n_jobs, k_list, metric, n_classes=None, n_neighbors=None, eps=1e-6):\n",
    "        self.n_jobs = n_jobs\n",
    "        self.k_list = k_list\n",
    "        self.metric = metric\n",
    "        \n",
    "        if n_neighbors is None:\n",
    "            self.n_neighbors = max(k_list) \n",
    "        else:\n",
    "            self.n_neighbors = n_neighbors\n",
    "            \n",
    "        self.eps = eps        \n",
    "        self.n_classes_ = n_classes\n",
    "    \n",
    "    def fit(self, X, y):\n",
    "        '''\n",
    "            Set's up the train set and self.NN object\n",
    "        '''\n",
    "        self.NN = NearestNeighbors(n_neighbors=max(self.k_list), \n",
    "                                      metric=self.metric, \n",
    "                                      n_jobs=1, \n",
    "                                      algorithm='brute' if self.metric=='cosine' else 'auto')\n",
    "        self.NN.fit(X)\n",
    "        \n",
    "        self.y_train = y\n",
    "        self.X = X\n",
    "        \n",
    "        self.n_classes = np.unique(y).shape[0] if self.n_classes_ is None else self.n_classes_\n",
    "        \n",
    "        \n",
    "    def predict(self, X, train=False):       \n",
    "        '''\n",
    "            Produces KNN features for every object of a dataset X\n",
    "        '''\n",
    "        if self.n_jobs == 1:\n",
    "            test_feats = []\n",
    "            for i in range(X.shape[0]):\n",
    "                test_feats.append(self.get_features_for_one(X[i:i+1], train=train))\n",
    "        else:\n",
    "            with Pool(self.n_jobs) as p:\n",
    "                test_feats = p.map(self.get_features_for_one, list(X))\n",
    "            \n",
    "        return np.vstack(test_feats)\n",
    "        \n",
    "        \n",
    "    def get_features_for_one(self, x, train=False):\n",
    "        '''\n",
    "            Computes KNN features for a single object `x`\n",
    "        '''\n",
    "        train = int(train)\n",
    "\n",
    "        NN_output = self.NN.kneighbors(x)\n",
    "        neighs = NN_output[1][0]\n",
    "        \n",
    "        neighs_dist = NN_output[0][0] \n",
    "\n",
    "        neighs_y = self.y_train[neighs]\n",
    "        return_list = [] \n",
    "        \n",
    "        return_list += [[neighs_y[train], neighs_dist[train]]]\n",
    "        \n",
    "        for k in self.k_list:\n",
    "            \n",
    "            feature_list = []\n",
    "            feature_list += [neighs_dist[k - 1]]\n",
    "            feature_list += [neighs_dist[k - 1] / (neighs_dist[0] + self.eps)]\n",
    "            feature_list += [np.mean(neighs_dist[train:k])]\n",
    "            feature_list += [np.mean(neighs_y[train:k])]\n",
    "            feature_list += [neighs_y[k - 1]]\n",
    "            feature_list += [np.log(neighs_dist[k - 1]) * neighs_y[k - 1]]\n",
    "            feature_list += [neighs_dist[k - 1] * neighs_y[k - 1]]\n",
    "            feature_list += [neighs_y[k - 1] / neighs_dist[k - 1]]\n",
    "            feature_list += list(np.mean(np.array(self.X[neighs[train:k]] - np.array(x[0])) * np.array([neighs_y[train:k]]).T, axis=0))\n",
    "            feature_list += list(np.mean(np.array(self.X[neighs[train:k]] - np.array(x[0]) + self.eps) / np.array([neighs_y[train:k]]).T, axis=0))\n",
    "            feature_list += list(np.mean(np.array(self.X[neighs[train:k]]) * np.array([neighs_y[train:k]]).T, axis=0))\n",
    "            feature_list += list(np.mean(np.array(self.X[neighs[train:k]]) / np.array([neighs_y[train:k]]).T, axis=0))\n",
    " \n",
    "            return_list += [feature_list]        \n",
    "        \n",
    "        knn_feats = np.hstack(return_list)\n",
    "        \n",
    "        return knn_feats"
   ]
  },
  {
   "cell_type": "code",
   "execution_count": 5,
   "metadata": {},
   "outputs": [],
   "source": [
    "trn_df = pd.read_csv('Training_wells.csv')\n",
    "tst_df = pd.read_csv('Empty_part.csv')"
   ]
  },
  {
   "cell_type": "code",
   "execution_count": 6,
   "metadata": {},
   "outputs": [
    {
     "name": "stdout",
     "output_type": "stream",
     "text": [
      "minkowski\n",
      "cosine\n",
      "manhattan\n",
      "euclidean\n"
     ]
    }
   ],
   "source": [
    "k_list = [2, 5, 9]\n",
    "new_tst_df = tst_df.copy()\n",
    "new_trn_df = trn_df.copy()\n",
    "    \n",
    "for metric in ['minkowski', 'cosine', 'manhattan', 'euclidean']:\n",
    "    print (metric)\n",
    "    \n",
    "    NNF = NearestNeighborsFeats(n_jobs=1, k_list=k_list, metric=metric)\n",
    "    NNF.fit(trn_df[trn_df.columns.drop(['NTG', 'Well'])].values, trn_df['NTG'].values)\n",
    "\n",
    "    test_knn_feats = NNF.predict(tst_df[tst_df.columns.drop(['Well'])].values)\n",
    "    test_knn_feats_df = pd.DataFrame(test_knn_feats, columns=[metric + '_feature' + str(x) for x in range(test_knn_feats.shape[1])])\n",
    "    new_tst_df = pd.concat([new_tst_df, test_knn_feats_df], axis=1)\n",
    "    \n",
    "    train_knn_feats = NNF.predict(trn_df[trn_df.columns.drop(['Well', 'NTG'])].values, train=True)\n",
    "    train_knn_feats_df = pd.DataFrame(train_knn_feats, columns=[metric + '_feature' + str(x) for x in range(test_knn_feats.shape[1])])\n",
    "    new_trn_df = pd.concat([new_trn_df, train_knn_feats_df], axis=1)"
   ]
  },
  {
   "cell_type": "code",
   "execution_count": 7,
   "metadata": {},
   "outputs": [],
   "source": [
    "new_tst_df = new_tst_df.sort_values('Well')"
   ]
  },
  {
   "cell_type": "markdown",
   "metadata": {},
   "source": [
    "## Leave one out as validation"
   ]
  },
  {
   "cell_type": "code",
   "execution_count": 8,
   "metadata": {},
   "outputs": [],
   "source": [
    "saved_results = {}\n",
    "\n",
    "def leave_one_out_validation(data, model, m, description='common', save_res=False, **kwargs):\n",
    "    global saved_results\n",
    "    \n",
    "    k_list = [2, 5, 9]\n",
    "    result = []\n",
    "    \n",
    "    for index, row in tqdm_notebook(data.iterrows()):\n",
    "        new_data = data.copy()\n",
    "        new_data.drop(columns=['Well'], inplace=True)\n",
    "        new_test = new_data.loc[[index], :].copy()\n",
    "        new_data = new_data.drop(index=index)\n",
    "        new_train_data = new_data.copy()\n",
    "        new_test_data = new_test.copy()\n",
    "        new_train_data.reset_index(drop=True, inplace=True)\n",
    "        new_test_data.reset_index(drop=True, inplace=True)\n",
    "\n",
    "        for metric in ['minkowski', 'cosine', 'manhattan', 'euclidean']:\n",
    "            NNF = NearestNeighborsFeats(n_jobs=1, k_list=k_list, metric=metric)\n",
    "            NNF.fit(new_data[new_data.columns.drop(['NTG'])].values, new_data['NTG'].values)\n",
    "\n",
    "            test_knn_feats = NNF.predict(new_test[new_test.columns.drop(['NTG'])].values)\n",
    "            test_knn_feats_df = pd.DataFrame(test_knn_feats, columns=[metric + '_feature' + str(x) for x in range(test_knn_feats.shape[1])])\n",
    "            new_test_data = pd.concat([new_test_data, test_knn_feats_df], axis=1)\n",
    "\n",
    "            train_knn_feats = NNF.predict(new_data[new_data.columns.drop(['NTG'])].values, train=True)\n",
    "            train_knn_feats_df = pd.DataFrame(train_knn_feats, columns=[metric + '_feature' + str(x) for x in range(test_knn_feats.shape[1])])\n",
    "            new_train_data = pd.concat([new_train_data, train_knn_feats_df], axis=1)\n",
    "        \n",
    "        model.fit(new_train_data[new_train_data.columns.drop(['NTG'])], new_train_data['NTG'], **kwargs)\n",
    "        \n",
    "        pred = model.predict(new_test_data[new_test_data.columns.drop(['NTG'])])\n",
    "        result.append(pred[0])\n",
    "        \n",
    "    m_value = m(data.NTG.values, result)\n",
    "    \n",
    "    if save_res:\n",
    "        if description not in saved_results:\n",
    "            saved_results[description] = (None, 1e3)\n",
    "        if m_value < saved_results[description][1]:\n",
    "            saved_results[description] = (result, m_value)\n",
    "    \n",
    "    print(m_value)\n",
    "    return m_value"
   ]
  },
  {
   "cell_type": "markdown",
   "metadata": {},
   "source": [
    "## Function to plot results"
   ]
  },
  {
   "cell_type": "code",
   "execution_count": 9,
   "metadata": {},
   "outputs": [],
   "source": [
    "size = (tst_df['Y'].max() - tst_df['Y'].min() + 1, tst_df['X'].max() - tst_df['X'].min() + 1)"
   ]
  },
  {
   "cell_type": "code",
   "execution_count": 10,
   "metadata": {},
   "outputs": [],
   "source": [
    "def plot_stuff(preds):    \n",
    "    a = np.zeros(size)\n",
    "    for i, x in enumerate(tst_df.values):\n",
    "        a[x[2] - tst_df.Y.min(), x[1] - tst_df.X.min()] = preds[i]\n",
    "\n",
    "    for i, x in enumerate(trn_df.values):\n",
    "        a[x[2] - trn_df.Y.min(), x[1] - trn_df.X.min()] = x[3]\n",
    "\n",
    "    plt.figure(figsize=(9,9))\n",
    "    plt.imshow(a)\n",
    "    plt.show()"
   ]
  },
  {
   "cell_type": "markdown",
   "metadata": {},
   "source": [
    "## Models"
   ]
  },
  {
   "cell_type": "code",
   "execution_count": 11,
   "metadata": {},
   "outputs": [],
   "source": [
    "from sklearn import linear_model, neighbors, pipeline, model_selection, preprocessing, metrics, impute, feature_selection\n",
    "\n",
    "def linear_pipeline(trn_df, tst_df, target='NTG', use='lasso'):\n",
    "    if use == 'lasso':\n",
    "        l = linear_model.LassoCV()\n",
    "    elif use == 'ridge':\n",
    "        l = linear_model.RidgeCV(alphas=np.linspace(start=0.1, stop=10, num=1000), normalize=True)\n",
    "    elif use == 'elasticnet':\n",
    "        l = linear_model.ElasticNetCV()\n",
    "    elif use == 'linear':\n",
    "        l = linear_model.LinearRegression()\n",
    "    else:\n",
    "        raise RuntimeError('Wrong model name')\n",
    "    \n",
    "    model = pipeline.Pipeline([\n",
    "        (\"fill_nan\", impute.SimpleImputer(missing_values=np.nan, strategy='mean')), \n",
    "        ('scaler', preprocessing.StandardScaler()),\n",
    "        (\"select features\", feature_selection.VarianceThreshold()),\n",
    "        ('linear_model', l)]\n",
    "    )\n",
    "    \n",
    "    model.fit(trn_df[trn_df.columns.drop(target)], trn_df[target])\n",
    "    return model.predict(tst_df[trn_df.columns.drop(target)]), model"
   ]
  },
  {
   "cell_type": "code",
   "execution_count": 12,
   "metadata": {},
   "outputs": [],
   "source": [
    "from sklearn.neighbors import KNeighborsRegressor\n",
    "\n",
    "def KNN_pipline(trn_df, tst_df, target='NTG', k=2, metric='minkowski'):\n",
    "    model = KNeighborsRegressor(k, metric=metric)\n",
    "    model.fit(trn_df[trn_df.columns.drop(target)], trn_df[target])\n",
    "    return model.predict(tst_df[trn_df.columns.drop(target)]), model"
   ]
  },
  {
   "cell_type": "code",
   "execution_count": 13,
   "metadata": {},
   "outputs": [],
   "source": [
    "from sklearn.ensemble import RandomForestRegressor\n",
    "from sklearn.model_selection import RandomizedSearchCV\n",
    "\n",
    "def random_forest_pipline(trn_df, tst_df, target='NTG', **kwargs):\n",
    "    n_estimators = [int(x) for x in np.linspace(start = 5, stop = 20, num = 2)]\n",
    "    # Number of features to consider at every split\n",
    "    max_features = ['auto', 'sqrt']\n",
    "    # Maximum number of levels in tree\n",
    "    max_depth = [int(x) for x in np.linspace(5, 20, num = 2)]\n",
    "    max_depth.append(None)\n",
    "    # Minimum number of samples required to split a node\n",
    "    min_samples_split = [2, 3, 4, 5, 8, 10]\n",
    "    # Minimum number of samples required at each leaf node\n",
    "    min_samples_leaf = [1, 2, 3, 4, 5]\n",
    "    # Method of selecting samples for training each tree\n",
    "    bootstrap = [True, False]\n",
    "    # Create the random grid\n",
    "    random_grid = {'n_estimators': n_estimators,\n",
    "                   'max_features': max_features,\n",
    "                   'max_depth': max_depth,\n",
    "                   'min_samples_split': min_samples_split,\n",
    "                   'min_samples_leaf': min_samples_leaf,\n",
    "                   'bootstrap': bootstrap}\n",
    "    \n",
    "    # Use the random grid to search for best hyperparameters\n",
    "    # First create the base model to tune\n",
    "    rf = RandomForestRegressor(random_state=seed)\n",
    "    # Random search of parameters, using 3 fold cross validation, \n",
    "    # search across 100 different combinations, and use all available cores\n",
    "    rf_random = RandomizedSearchCV(estimator = rf, param_distributions = random_grid, n_iter = 100, cv = 5, verbose=2, n_jobs = -1, random_state=seed)\n",
    "    # Fit the random search model\n",
    "    rf_random.fit(trn_df[trn_df.columns.drop(target)], trn_df[target])\n",
    "\n",
    "    \n",
    "    model = RandomForestRegressor(**rf_random.best_params_, random_state=seed)\n",
    "    model.fit(trn_df[trn_df.columns.drop(target)], trn_df[target])\n",
    "    return model.predict(tst_df[trn_df.columns.drop(target)]), model"
   ]
  },
  {
   "cell_type": "code",
   "execution_count": 14,
   "metadata": {},
   "outputs": [],
   "source": [
    "from catboost import CatBoostRegressor\n",
    "\n",
    "def catboost_pipeline(trn_df, tst_df, target='NTG', **kwargs):\n",
    "    model = CatBoostRegressor(iterations=200, \n",
    "                              learning_rate=0.1,\n",
    "                              depth=4,\n",
    "                              l2_leaf_reg=1,\n",
    "                              min_data_in_leaf=3,\n",
    "                              rsm=0.5,\n",
    "                              early_stopping_rounds=5,\n",
    "                              random_state=seed\n",
    "                             )\n",
    "    \n",
    "    model.fit(trn_df[trn_df.columns.drop(target)], trn_df[target], **kwargs)\n",
    "    \n",
    "    return model.predict(tst_df[trn_df.columns.drop(target)]), model"
   ]
  },
  {
   "cell_type": "markdown",
   "metadata": {},
   "source": [
    "## Ensemble"
   ]
  },
  {
   "cell_type": "code",
   "execution_count": 15,
   "metadata": {},
   "outputs": [],
   "source": [
    "trn_df = pd.read_csv('Training_wells.csv')\n",
    "tst_df = pd.read_csv('Empty_part.csv')\n",
    " \n",
    "def smart_ensemble(*preds):\n",
    "    global trn_df, tst_df\n",
    "    \n",
    "    meta_trn_df = pd.DataFrame(trn_df[['NTG', 'X', 'Y']])\n",
    "    meta_tst_df = pd.DataFrame(tst_df[['X', 'Y']])\n",
    "    \n",
    "    max_x = int(meta_tst_df.X.max())\n",
    "    max_y = int(meta_tst_df.Y.max())\n",
    "    min_x = int(meta_tst_df.X.min())\n",
    "    min_y = int(meta_tst_df.Y.min())\n",
    "    \n",
    "    cnt = 0\n",
    "    \n",
    "    for p in preds:\n",
    "        a = np.zeros(size)\n",
    "        for i, x in enumerate(tst_df.values):\n",
    "            a[x[2] - tst_df.Y.min(), x[1] - tst_df.X.min()] = p[i]\n",
    " \n",
    "        for i, x in enumerate(trn_df.values):\n",
    "            a[x[2] - trn_df.Y.min(), x[1] - trn_df.X.min()] = x[3]\n",
    " \n",
    "        for add_x, add_y in [(x, y) for x in [-2, -1, 0, 1, 2] for y in [-2, -1, 0, 1, 2]]:\n",
    "            meta_trn_df['smart_feature_' + str(cnt)] = 0\n",
    "            for index, row in meta_trn_df.iterrows():\n",
    "                new_x = int(row['X'] + add_x)\n",
    "                new_y = int(row['Y'] + add_y)\n",
    "            \n",
    "                if max_x < new_x or min_x > new_x or max_y < new_y or min_y > new_y:\n",
    "                    meta_trn_df.loc[index, 'smart_feature_' + str(cnt)] = a[int(row['Y']) - min_y, int(row['X']) - min_x]\n",
    "                else:\n",
    "                    meta_trn_df.loc[index, 'smart_feature_' + str(cnt)] = a[new_y - min_y, new_x - min_x]\n",
    " \n",
    "            meta_tst_df['smart_feature_' + str(cnt)] = 0\n",
    "            for index, row in meta_tst_df.iterrows():\n",
    "                new_x = int(row['X'] + add_x)\n",
    "                new_y = int(row['Y'] + add_y)\n",
    "                \n",
    "                if max_x < new_x or min_x > new_x or max_y < new_y or min_y > new_y:\n",
    "                    meta_tst_df.loc[index, 'smart_feature_' + str(cnt)] = a[int(row['Y']) - min_y, int(row['X']) - min_x]\n",
    "                else:\n",
    "                    meta_tst_df.loc[index, 'smart_feature_' + str(cnt)] = a[new_y - min_y, new_x - min_x]\n",
    "            cnt += 1\n",
    "    \n",
    "    \n",
    "    model = CatBoostRegressor(iterations=200, \n",
    "                              learning_rate=0.1,\n",
    "                              depth=3,\n",
    "                              rsm=0.5,\n",
    "                              l2_leaf_reg=1,\n",
    "                              min_data_in_leaf=3,\n",
    "                              early_stopping_rounds=5,\n",
    "                              random_state=seed\n",
    "                             )\n",
    "    \n",
    "    model.fit(meta_trn_df[meta_trn_df.columns.drop('NTG')], meta_trn_df['NTG'], silent=True)\n",
    "    \n",
    "    return model.predict(meta_tst_df[meta_trn_df.columns.drop('NTG')]), model"
   ]
  },
  {
   "cell_type": "markdown",
   "metadata": {},
   "source": [
    "## Training"
   ]
  },
  {
   "cell_type": "code",
   "execution_count": 16,
   "metadata": {},
   "outputs": [],
   "source": [
    "best_pred = None\n",
    "best_rmse = 1e3\n",
    "\n",
    "def find_best(preds, rmse_score):\n",
    "    global best_pred, best_rmse\n",
    "    \n",
    "    if rmse_score < best_rmse:\n",
    "        best_pred = preds\n",
    "        best_rmse = rmse_score"
   ]
  },
  {
   "cell_type": "code",
   "execution_count": 17,
   "metadata": {},
   "outputs": [],
   "source": [
    "predictions = []"
   ]
  },
  {
   "cell_type": "code",
   "execution_count": 18,
   "metadata": {},
   "outputs": [
    {
     "data": {
      "application/vnd.jupyter.widget-view+json": {
       "model_id": "07af46fe24da43968d3c2fba98a50ccc",
       "version_major": 2,
       "version_minor": 0
      },
      "text/plain": [
       "HBox(children=(FloatProgress(value=1.0, bar_style='info', layout=Layout(width='20px'), max=1.0), HTML(value=''…"
      ]
     },
     "metadata": {},
     "output_type": "display_data"
    },
    {
     "name": "stdout",
     "output_type": "stream",
     "text": [
      "\n",
      "0.058703217242967516\n",
      "lasso\n",
      "val RMSE:  0.058703217242967516\n"
     ]
    },
    {
     "data": {
      "image/png": "[encoded data removed]",
      "text/plain": [
       "<Figure size 648x648 with 1 Axes>"
      ]
     },
     "metadata": {
      "needs_background": "light"
     },
     "output_type": "display_data"
    },
    {
     "data": {
      "application/vnd.jupyter.widget-view+json": {
       "model_id": "101a28ab7bed40ef9e195c2f1690a12a",
       "version_major": 2,
       "version_minor": 0
      },
      "text/plain": [
       "HBox(children=(FloatProgress(value=1.0, bar_style='info', layout=Layout(width='20px'), max=1.0), HTML(value=''…"
      ]
     },
     "metadata": {},
     "output_type": "display_data"
    },
    {
     "name": "stdout",
     "output_type": "stream",
     "text": [
      "\n",
      "0.06037823633718426\n",
      "ridge\n",
      "val RMSE:  0.06037823633718426\n"
     ]
    },
    {
     "data": {
      "image/png": "[encoded data removed]",
      "text/plain": [
       "<Figure size 648x648 with 1 Axes>"
      ]
     },
     "metadata": {
      "needs_background": "light"
     },
     "output_type": "display_data"
    }
   ],
   "source": [
    "for i in ['lasso', 'ridge']:\n",
    "    pred, model = linear_pipeline(new_trn_df[new_trn_df.columns.drop(['Well'])], new_tst_df, use=i)\n",
    "    val_rmse = leave_one_out_validation(trn_df, model, lambda x,y: np.sqrt(metrics.mean_squared_error(x, y)))\n",
    "    print(i)\n",
    "    print('val RMSE: ', val_rmse)\n",
    "    find_best(pred, val_rmse)\n",
    "    plot_stuff(pred)\n",
    "    predictions.append((pred, val_rmse, i))\n",
    "    make_submission(tst_df, pred, i)"
   ]
  },
  {
   "cell_type": "code",
   "execution_count": 19,
   "metadata": {},
   "outputs": [
    {
     "data": {
      "application/vnd.jupyter.widget-view+json": {
       "model_id": "0c4eb16c65ab487baa11dfddc18a6f2f",
       "version_major": 2,
       "version_minor": 0
      },
      "text/plain": [
       "HBox(children=(FloatProgress(value=1.0, bar_style='info', layout=Layout(width='20px'), max=1.0), HTML(value=''…"
      ]
     },
     "metadata": {},
     "output_type": "display_data"
    },
    {
     "name": "stdout",
     "output_type": "stream",
     "text": [
      "\n",
      "0.0838837238708129\n",
      "K: 3\n",
      "val RMSE:  0.0838837238708129\n"
     ]
    },
    {
     "data": {
      "image/png": "[encoded data removed]",
      "text/plain": [
       "<Figure size 648x648 with 1 Axes>"
      ]
     },
     "metadata": {
      "needs_background": "light"
     },
     "output_type": "display_data"
    },
    {
     "data": {
      "application/vnd.jupyter.widget-view+json": {
       "model_id": "ab628e31f5d14bec9c4794e34e92cee1",
       "version_major": 2,
       "version_minor": 0
      },
      "text/plain": [
       "HBox(children=(FloatProgress(value=1.0, bar_style='info', layout=Layout(width='20px'), max=1.0), HTML(value=''…"
      ]
     },
     "metadata": {},
     "output_type": "display_data"
    },
    {
     "name": "stdout",
     "output_type": "stream",
     "text": [
      "\n",
      "0.08108113151009007\n",
      "K: 5\n",
      "val RMSE:  0.08108113151009007\n"
     ]
    },
    {
     "data": {
      "image/png": "[encoded data removed]",
      "text/plain": [
       "<Figure size 648x648 with 1 Axes>"
      ]
     },
     "metadata": {
      "needs_background": "light"
     },
     "output_type": "display_data"
    },
    {
     "data": {
      "application/vnd.jupyter.widget-view+json": {
       "model_id": "e089ba86e76b4f66a8db6f087cf89110",
       "version_major": 2,
       "version_minor": 0
      },
      "text/plain": [
       "HBox(children=(FloatProgress(value=1.0, bar_style='info', layout=Layout(width='20px'), max=1.0), HTML(value=''…"
      ]
     },
     "metadata": {},
     "output_type": "display_data"
    },
    {
     "name": "stdout",
     "output_type": "stream",
     "text": [
      "\n",
      "0.0838837238708129\n",
      "K: 3\n",
      "val RMSE:  0.0838837238708129\n"
     ]
    },
    {
     "data": {
      "image/png": "[encoded data removed]",
      "text/plain": [
       "<Figure size 648x648 with 1 Axes>"
      ]
     },
     "metadata": {
      "needs_background": "light"
     },
     "output_type": "display_data"
    },
    {
     "data": {
      "application/vnd.jupyter.widget-view+json": {
       "model_id": "6c3fbe33331b4b1ba502bf3e714569b0",
       "version_major": 2,
       "version_minor": 0
      },
      "text/plain": [
       "HBox(children=(FloatProgress(value=1.0, bar_style='info', layout=Layout(width='20px'), max=1.0), HTML(value=''…"
      ]
     },
     "metadata": {},
     "output_type": "display_data"
    },
    {
     "name": "stdout",
     "output_type": "stream",
     "text": [
      "\n",
      "0.08108113151009007\n",
      "K: 5\n",
      "val RMSE:  0.08108113151009007\n"
     ]
    },
    {
     "data": {
      "image/png": "[encoded data removed]",
      "text/plain": [
       "<Figure size 648x648 with 1 Axes>"
      ]
     },
     "metadata": {
      "needs_background": "light"
     },
     "output_type": "display_data"
    }
   ],
   "source": [
    "for m in ['minkowski', 'euclidean']:\n",
    "    for k in [3, 5]:\n",
    "        pred, model = KNN_pipline(trn_df[trn_df.columns.drop(['Well'])], tst_df, k=k, metric=m)\n",
    "        val_rmse = leave_one_out_validation(trn_df, model, lambda x,y: np.sqrt(metrics.mean_squared_error(x, y)))\n",
    "        print('K: ' + str(k))\n",
    "        print('val RMSE: ', val_rmse)\n",
    "        plot_stuff(pred)\n",
    "        find_best(pred, val_rmse)\n",
    "        predictions.append((pred, val_rmse, 'knn'))\n",
    "        make_submission(tst_df, pred, 'knn_' + str(k))"
   ]
  },
  {
   "cell_type": "code",
   "execution_count": 20,
   "metadata": {},
   "outputs": [
    {
     "name": "stdout",
     "output_type": "stream",
     "text": [
      "Fitting 5 folds for each of 100 candidates, totalling 500 fits\n"
     ]
    },
    {
     "name": "stderr",
     "output_type": "stream",
     "text": [
      "[Parallel(n_jobs=-1)]: Using backend LokyBackend with 4 concurrent workers.\n",
      "[Parallel(n_jobs=-1)]: Done  33 tasks      | elapsed:    3.1s\n",
      "[Parallel(n_jobs=-1)]: Done 500 out of 500 | elapsed:   13.7s finished\n"
     ]
    },
    {
     "data": {
      "application/vnd.jupyter.widget-view+json": {
       "model_id": "121d9f41454e43abb6b78bd4ecc2cf84",
       "version_major": 2,
       "version_minor": 0
      },
      "text/plain": [
       "HBox(children=(FloatProgress(value=1.0, bar_style='info', layout=Layout(width='20px'), max=1.0), HTML(value=''…"
      ]
     },
     "metadata": {},
     "output_type": "display_data"
    },
    {
     "name": "stdout",
     "output_type": "stream",
     "text": [
      "\n",
      "0.06524478783353857\n",
      "val RMSE:  0.06524478783353857\n"
     ]
    },
    {
     "data": {
      "image/png": "[encoded data removed]",
      "text/plain": [
       "<Figure size 648x648 with 1 Axes>"
      ]
     },
     "metadata": {
      "needs_background": "light"
     },
     "output_type": "display_data"
    }
   ],
   "source": [
    "pred, model = random_forest_pipline(new_trn_df[new_trn_df.columns.drop(['Well'])], new_tst_df)\n",
    "val_rmse = leave_one_out_validation(trn_df, model, lambda x,y: np.sqrt(metrics.mean_squared_error(x, y)))\n",
    "print('val RMSE: ', val_rmse)\n",
    "plot_stuff(pred)\n",
    "find_best(pred, val_rmse)\n",
    "predictions.append((pred, val_rmse, 'random_forest'))\n",
    "make_submission(tst_df, pred, 'rand_f')"
   ]
  },
  {
   "cell_type": "code",
   "execution_count": 21,
   "metadata": {},
   "outputs": [
    {
     "data": {
      "application/vnd.jupyter.widget-view+json": {
       "model_id": "c7bf3caa2f064e49acccc1e07edf0331",
       "version_major": 2,
       "version_minor": 0
      },
      "text/plain": [
       "HBox(children=(FloatProgress(value=1.0, bar_style='info', layout=Layout(width='20px'), max=1.0), HTML(value=''…"
      ]
     },
     "metadata": {},
     "output_type": "display_data"
    },
    {
     "name": "stdout",
     "output_type": "stream",
     "text": [
      "\n",
      "0.06493734769021603\n",
      "val RMSE:  0.06493734769021603\n"
     ]
    },
    {
     "data": {
      "image/png": "[encoded data removed]",
      "text/plain": [
       "<Figure size 648x648 with 1 Axes>"
      ]
     },
     "metadata": {
      "needs_background": "light"
     },
     "output_type": "display_data"
    }
   ],
   "source": [
    "pred, model = catboost_pipeline(new_trn_df[new_trn_df.columns.drop(['Well'])], new_tst_df, silent=True)\n",
    "val_rmse = leave_one_out_validation(trn_df, model, lambda x,y: np.sqrt(metrics.mean_squared_error(x, y)), silent=True)\n",
    "print('val RMSE: ', val_rmse)\n",
    "plot_stuff(pred)\n",
    "find_best(pred, val_rmse)\n",
    "predictions.append((pred, val_rmse, 'catboost'))\n",
    "make_submission(tst_df, pred, 'catboost')"
   ]
  },
  {
   "cell_type": "code",
   "execution_count": 22,
   "metadata": {},
   "outputs": [
    {
     "data": {
      "text/plain": [
       "[(array([0.27871993, 0.27903643, 0.27798253, ..., 0.35956675, 0.35932125,\n",
       "         0.36412632]), 0.058703217242967516, 'lasso'),\n",
       " (array([0.28275967, 0.27637022, 0.26819257, ..., 0.36424695, 0.36321941,\n",
       "         0.36705566]), 0.06037823633718426, 'ridge'),\n",
       " (array([0.24123333, 0.24123333, 0.24123333, ..., 0.3544    , 0.3544    ,\n",
       "         0.3544    ]), 0.0838837238708129, 'knn'),\n",
       " (array([0.22434, 0.22434, 0.22434, ..., 0.37076, 0.3538 , 0.3538 ]),\n",
       "  0.08108113151009007,\n",
       "  'knn'),\n",
       " (array([0.24123333, 0.24123333, 0.24123333, ..., 0.3544    , 0.3544    ,\n",
       "         0.3544    ]), 0.0838837238708129, 'knn'),\n",
       " (array([0.22434, 0.22434, 0.22434, ..., 0.37076, 0.3538 , 0.3538 ]),\n",
       "  0.08108113151009007,\n",
       "  'knn'),\n",
       " (array([0.27560086, 0.27155181, 0.27385574, ..., 0.3615378 , 0.36566823,\n",
       "         0.36827683]), 0.06524478783353857, 'random_forest'),\n",
       " (array([0.30663029, 0.28885138, 0.29196564, ..., 0.35050548, 0.34789143,\n",
       "         0.35786782]), 0.06493734769021603, 'catboost')]"
      ]
     },
     "execution_count": 22,
     "metadata": {},
     "output_type": "execute_result"
    }
   ],
   "source": [
    "predictions"
   ]
  },
  {
   "cell_type": "code",
   "execution_count": 23,
   "metadata": {},
   "outputs": [],
   "source": [
    "predictions_map = {}\n",
    "for i in predictions:\n",
    "    if i[2] not in predictions_map:\n",
    "        predictions_map[i[2]] = (None, 0)\n",
    "    if i[1] > predictions_map[i[2]][1]:\n",
    "        predictions_map[i[2]] = (i[0], i[1])\n",
    "predictions = [(x[1][0], x[1][1]) for x in predictions_map.items()] "
   ]
  },
  {
   "cell_type": "code",
   "execution_count": 24,
   "metadata": {},
   "outputs": [],
   "source": [
    "predictions = sorted(predictions, key=lambda x: x[1])"
   ]
  },
  {
   "cell_type": "code",
   "execution_count": 25,
   "metadata": {},
   "outputs": [
    {
     "data": {
      "text/plain": [
       "[(array([0.27871993, 0.27903643, 0.27798253, ..., 0.35956675, 0.35932125,\n",
       "         0.36412632]), 0.058703217242967516),\n",
       " (array([0.28275967, 0.27637022, 0.26819257, ..., 0.36424695, 0.36321941,\n",
       "         0.36705566]), 0.06037823633718426),\n",
       " (array([0.30663029, 0.28885138, 0.29196564, ..., 0.35050548, 0.34789143,\n",
       "         0.35786782]), 0.06493734769021603),\n",
       " (array([0.27560086, 0.27155181, 0.27385574, ..., 0.3615378 , 0.36566823,\n",
       "         0.36827683]), 0.06524478783353857),\n",
       " (array([0.24123333, 0.24123333, 0.24123333, ..., 0.3544    , 0.3544    ,\n",
       "         0.3544    ]), 0.0838837238708129)]"
      ]
     },
     "execution_count": 25,
     "metadata": {},
     "output_type": "execute_result"
    }
   ],
   "source": [
    "predictions"
   ]
  },
  {
   "cell_type": "code",
   "execution_count": 26,
   "metadata": {},
   "outputs": [
    {
     "data": {
      "image/png": "[encoded data removed]",
      "text/plain": [
       "<Figure size 648x648 with 1 Axes>"
      ]
     },
     "metadata": {
      "needs_background": "light"
     },
     "output_type": "display_data"
    }
   ],
   "source": [
    "pred = predictions[0][0].copy()\n",
    "n = 3\n",
    "for i in range(1, n):\n",
    "    pred += predictions[i][0]\n",
    "pred /= n\n",
    "\n",
    "plot_stuff(pred)\n",
    "find_best(pred, 0.1)\n",
    "make_submission(tst_df, pred, 'ensemble')"
   ]
  },
  {
   "cell_type": "code",
   "execution_count": 27,
   "metadata": {},
   "outputs": [
    {
     "data": {
      "text/plain": [
       "{'lasso': (array([0.27871993, 0.27903643, 0.27798253, ..., 0.35956675, 0.35932125,\n",
       "         0.36412632]), 0.058703217242967516),\n",
       " 'ridge': (array([0.28275967, 0.27637022, 0.26819257, ..., 0.36424695, 0.36321941,\n",
       "         0.36705566]),\n",
       "  0.06037823633718426),\n",
       " 'knn': (array([0.24123333, 0.24123333, 0.24123333, ..., 0.3544    , 0.3544    ,\n",
       "         0.3544    ]), 0.0838837238708129),\n",
       " 'random_forest': (array([0.27560086, 0.27155181, 0.27385574, ..., 0.3615378 , 0.36566823,\n",
       "         0.36827683]), 0.06524478783353857),\n",
       " 'catboost': (array([0.30663029, 0.28885138, 0.29196564, ..., 0.35050548, 0.34789143,\n",
       "         0.35786782]), 0.06493734769021603)}"
      ]
     },
     "execution_count": 27,
     "metadata": {},
     "output_type": "execute_result"
    }
   ],
   "source": [
    "predictions_map"
   ]
  },
  {
   "cell_type": "code",
   "execution_count": 28,
   "metadata": {},
   "outputs": [
    {
     "data": {
      "text/plain": [
       "[(array([0.27871993, 0.27903643, 0.27798253, ..., 0.35956675, 0.35932125,\n",
       "         0.36412632]), 0.058703217242967516),\n",
       " (array([0.28275967, 0.27637022, 0.26819257, ..., 0.36424695, 0.36321941,\n",
       "         0.36705566]), 0.06037823633718426),\n",
       " (array([0.30663029, 0.28885138, 0.29196564, ..., 0.35050548, 0.34789143,\n",
       "         0.35786782]), 0.06493734769021603),\n",
       " (array([0.27560086, 0.27155181, 0.27385574, ..., 0.3615378 , 0.36566823,\n",
       "         0.36827683]), 0.06524478783353857),\n",
       " (array([0.24123333, 0.24123333, 0.24123333, ..., 0.3544    , 0.3544    ,\n",
       "         0.3544    ]), 0.0838837238708129)]"
      ]
     },
     "execution_count": 28,
     "metadata": {},
     "output_type": "execute_result"
    }
   ],
   "source": [
    "predictions"
   ]
  },
  {
   "cell_type": "code",
   "execution_count": 29,
   "metadata": {},
   "outputs": [
    {
     "data": {
      "image/png": "[encoded data removed]",
      "text/plain": [
       "<Figure size 648x648 with 1 Axes>"
      ]
     },
     "metadata": {
      "needs_background": "light"
     },
     "output_type": "display_data"
    }
   ],
   "source": [
    "pred = predictions[0][0].copy()\n",
    "n = 3\n",
    "for i in [1, 3]:\n",
    "    pred += predictions[i][0]\n",
    "pred /= n\n",
    "\n",
    "plot_stuff(pred)\n",
    "find_best(pred, 0.0)\n",
    "make_submission(tst_df, pred, 'ensemble_2')"
   ]
  },
  {
   "cell_type": "code",
   "execution_count": 30,
   "metadata": {},
   "outputs": [
    {
     "data": {
      "image/png": "[encoded data removed]",
      "text/plain": [
       "<Figure size 648x648 with 1 Axes>"
      ]
     },
     "metadata": {
      "needs_background": "light"
     },
     "output_type": "display_data"
    }
   ],
   "source": [
    "plot_stuff(best_pred)"
   ]
  },
  {
   "cell_type": "code",
   "execution_count": 31,
   "metadata": {},
   "outputs": [
    {
     "data": {
      "image/png": "[encoded data removed]",
      "text/plain": [
       "<Figure size 648x648 with 1 Axes>"
      ]
     },
     "metadata": {
      "needs_background": "light"
     },
     "output_type": "display_data"
    }
   ],
   "source": [
    "ensemble_pred, model = smart_ensemble(best_pred)\n",
    "plot_stuff(ensemble_pred)\n",
    "make_submission(tst_df, ensemble_pred, 'smart_ensemble1')"
   ]
  },
  {
   "cell_type": "code",
   "execution_count": 32,
   "metadata": {},
   "outputs": [
    {
     "data": {
      "image/png": "[encoded data removed]",
      "text/plain": [
       "<Figure size 648x648 with 1 Axes>"
      ]
     },
     "metadata": {
      "needs_background": "light"
     },
     "output_type": "display_data"
    }
   ],
   "source": [
    "ensemble_pred, model = smart_ensemble(best_pred, ensemble_pred)\n",
    "plot_stuff(ensemble_pred)\n",
    "make_submission(tst_df, ensemble_pred, 'smart_ensemble2')"
   ]
  },
  {
   "cell_type": "code",
   "execution_count": null,
   "metadata": {},
   "outputs": [],
   "source": []
  }
 ],
 "metadata": {
  "kernelspec": {
   "display_name": "Python 3 (ipykernel)",
   "language": "python",
   "name": "python3"
  },
  "language_info": {
   "codemirror_mode": {
    "name": "ipython",
    "version": 3
   },
   "file_extension": ".py",
   "mimetype": "text/x-python",
   "name": "python",
   "nbconvert_exporter": "python",
   "pygments_lexer": "ipython3",
   "version": "3.8.9"
  }
 },
 "nbformat": 4,
 "nbformat_minor": 4
}
